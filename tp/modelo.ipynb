{
 "cells": [
  {
   "cell_type": "markdown",
   "metadata": {},
   "source": [
    "# Modelo\n",
    "\n",
    "## Constantes"
   ]
  },
  {
   "cell_type": "code",
   "execution_count": 18,
   "metadata": {},
   "outputs": [],
   "source": [
    "NP = (110119 + 109164 + 111111) / 3 \n",
    "A_TERR = 17.32 * NP / 3000\n",
    "\n",
    "A_SOT = 8.66 ** 2                   # m2\n",
    "Q_MAX = 8                           # mm/h\n",
    "D_H_MAX = 4                         # m\n",
    "D_H_MIN = 1                         # m\n",
    "H_S = 3.50                          # m\n",
    "\n",
    "C_SAT = 0.90                        # admin\n",
    "C_0 = 0.60                          # admin\n",
    "\n",
    "T_K = (1-NP/140000)                 # h\n",
    "\n",
    "\n",
    "# EC 1\n",
    "def f_der_v(q_ent, q_sal):\n",
    "    return q_ent - q_sal\n",
    "\n",
    "# EC 2\n",
    "def f_q_ent(c, i, a_terr):\n",
    "    return c * i * a_terr           # admin * m/h * m2 = m3/h\n",
    "\n",
    "# EC 3\n",
    "def f_q_sal(q_max, d_h_max, d_h_min, d_h):\n",
    "    return q_max * (((d_h_max - d_h)/(d_h_max - d_h_min)) ** 0.5)\n",
    "\n",
    "# EC 4\n",
    "def f_d_h(h_s, h):\n",
    "    return h_s - h\n",
    "\n",
    "# EC 5\n",
    "def f_h(v, a_sot):\n",
    "    return v / a_sot\n",
    "\n",
    "# EC 6\n",
    "def f_der_c(v, v_sot, t_k, c_sat, c):\n",
    "    return (v/(v_sot * t_k)) * (c_sat - c)"
   ]
  },
  {
   "cell_type": "markdown",
   "metadata": {},
   "source": [
    "## Métodos"
   ]
  },
  {
   "cell_type": "code",
   "execution_count": 19,
   "metadata": {},
   "outputs": [],
   "source": [
    "def euler_explicito(f, h, t, u):    # m3\n",
    "    return u + h * f(t, u)          # m3 + h * m3/h\n",
    "\n",
    "def euler_explicito_2(f, h, t, u, v):       # m3\n",
    "    return u + h * f(t, u, v)               # m3 + h * m3/h\n",
    "\n",
    "def euler_explicito_3(f, h, t, u, v, w):    # m3\n",
    "    return u + h * f(t, u, v, w)            # m3 + h * m3/h"
   ]
  },
  {
   "cell_type": "markdown",
   "metadata": {},
   "source": [
    "## 1A"
   ]
  },
  {
   "cell_type": "code",
   "execution_count": 20,
   "metadata": {},
   "outputs": [
    {
     "name": "stdout",
     "output_type": "stream",
     "text": [
      "t_0 = 0hs, u_0 = 0m3\n",
      "t_1 = 0.08333333333333333hs, u_1 = 12.790677526962963m3\n",
      "t_2 = 0.16666666666666666hs, u_2 = 25.581355053925925m3\n",
      "t_3 = 0.25hs, u_3 = 38.372032580888884m3\n",
      "t_4 = 0.3333333333333333hs, u_4 = 51.16271010785185m3\n",
      "t_5 = 0.41666666666666663hs, u_5 = 63.95338763481482m3\n",
      "t_6 = 0.49999999999999994hs, u_6 = 76.74406516177778m3\n",
      "t_7 = 0.5833333333333333hs, u_7 = 89.53474268874075m3\n",
      "t_8 = 0.6666666666666666hs, u_8 = 102.32542021570372m3\n",
      "t_9 = 0.75hs, u_9 = 115.11609774266668m3\n",
      "t_10 = 0.8333333333333334hs, u_10 = 127.90677526962965m3\n",
      "t_11 = 0.9166666666666667hs, u_11 = 140.69745279659261m3\n",
      "t_12 = 1.0hs, u_12 = 153.48813032355557m3\n"
     ]
    }
   ],
   "source": [
    "intensity = 241.4 / 1000                    # m/h\n",
    "\n",
    "DUR = 1                             # h\n",
    "C = 1                               # a-dimensional\n",
    "Q_SAL = 0                           # m3/h\n",
    "\n",
    "def d_volume(t, u):\n",
    "    q_ent = f_q_ent(C, intensity, A_TERR)   # m3/h\n",
    "    q_sal = Q_SAL                   # m3/h\n",
    "    \n",
    "    return f_der_v(q_ent, q_sal)    # m3/h\n",
    "\n",
    "time_gap = 5 / 60                          # h\n",
    "\n",
    "def main(method, func, time_gap):\n",
    "    t = 0\n",
    "    u = 0\n",
    "    h = time_gap\n",
    "\n",
    "    i = 0\n",
    "    print(f\"t_{i} = {t}hs, u_{i} = {u}m3\")\n",
    "\n",
    "    while t < DUR:\n",
    "        i += 1\n",
    "        u = method(func, h, t, u)\n",
    "        t += h\n",
    "        print(f\"t_{i} = {t}hs, u_{i} = {u}m3\")\n",
    "\n",
    "main(euler_explicito, d_volume, time_gap)"
   ]
  },
  {
   "cell_type": "markdown",
   "metadata": {},
   "source": [
    "## 1B\n",
    "\n",
    "Discretizar las ec. 1 y ec. 6 con el método de Euler, considerando $C$ y $Q_{sal}$ variables. Correr\n",
    "el modelo para todas las duraciónes / intensidades de precipitación, un lapso de tiempo\n",
    "suficiente como para que el sótano se vacíe"
   ]
  },
  {
   "cell_type": "code",
   "execution_count": 25,
   "metadata": {},
   "outputs": [
    {
     "name": "stdout",
     "output_type": "stream",
     "text": [
      "v_1939 = -0.02m3\n",
      "\n",
      "\n",
      "v_3308 = -0.03m3\n",
      "\n",
      "\n",
      "v_6860 = -0.04m3\n",
      "\n",
      "\n"
     ]
    },
    {
     "ename": "TypeError",
     "evalue": "'>' not supported between instances of 'complex' and 'int'",
     "output_type": "error",
     "traceback": [
      "\u001b[0;31m---------------------------------------------------------------------------\u001b[0m",
      "\u001b[0;31mTypeError\u001b[0m                                 Traceback (most recent call last)",
      "Cell \u001b[0;32mIn[25], line 71\u001b[0m\n\u001b[1;32m     69\u001b[0m intensity \u001b[38;5;241m=\u001b[39m intensity_mm \u001b[38;5;241m/\u001b[39m \u001b[38;5;241m1000\u001b[39m\n\u001b[1;32m     70\u001b[0m time_gap \u001b[38;5;241m=\u001b[39m duration \u001b[38;5;241m/\u001b[39m \u001b[38;5;241m10\u001b[39m\n\u001b[0;32m---> 71\u001b[0m \u001b[43mmain\u001b[49m\u001b[43m(\u001b[49m\u001b[43mduration\u001b[49m\u001b[43m,\u001b[49m\u001b[43m \u001b[49m\u001b[43mintensity\u001b[49m\u001b[43m,\u001b[49m\u001b[43m \u001b[49m\u001b[43md_volume\u001b[49m\u001b[43m,\u001b[49m\u001b[43m \u001b[49m\u001b[43md_infiltration\u001b[49m\u001b[43m,\u001b[49m\u001b[43m \u001b[49m\u001b[43mtime_gap\u001b[49m\u001b[43m)\u001b[49m\n\u001b[1;32m     72\u001b[0m \u001b[38;5;28mprint\u001b[39m(\u001b[38;5;124m\"\u001b[39m\u001b[38;5;130;01m\\n\u001b[39;00m\u001b[38;5;124m\"\u001b[39m)\n",
      "Cell \u001b[0;32mIn[25], line 60\u001b[0m, in \u001b[0;36mmain\u001b[0;34m(storm_duration, intensity, d_volume, d_infiltration, time_gap)\u001b[0m\n\u001b[1;32m     57\u001b[0m     time \u001b[38;5;241m+\u001b[39m\u001b[38;5;241m=\u001b[39m time_gap\n\u001b[1;32m     59\u001b[0m intensity  \u001b[38;5;241m=\u001b[39m \u001b[38;5;241m0\u001b[39m\n\u001b[0;32m---> 60\u001b[0m \u001b[38;5;28;01mwhile\u001b[39;00m \u001b[43mvolume\u001b[49m\u001b[43m \u001b[49m\u001b[38;5;241;43m>\u001b[39;49m\u001b[43m \u001b[49m\u001b[38;5;241;43m0\u001b[39;49m:\n\u001b[1;32m     61\u001b[0m     iteration \u001b[38;5;241m+\u001b[39m\u001b[38;5;241m=\u001b[39m \u001b[38;5;241m1\u001b[39m\n\u001b[1;32m     62\u001b[0m     volume, infiltration \u001b[38;5;241m=\u001b[39m euler_explicito_3(d_volume, time_gap, time, volume, infiltration, intensity), euler_explicito_2(d_infiltration, time_gap, time, volume, infiltration)\n",
      "\u001b[0;31mTypeError\u001b[0m: '>' not supported between instances of 'complex' and 'int'"
     ]
    }
   ],
   "source": [
    "storms = [       # min, mm/h\n",
    "    (5, 241.4),\n",
    "    (10, 190.7),\n",
    "    (15, 162.6),\n",
    "    (30, 119.6),\n",
    "    (60, 85.0),\n",
    "    (180, 41.7),\n",
    "    (360, 26.4),\n",
    "    (720, 16.7),\n",
    "    (1440, 10.9),\n",
    "    (4320, 5.2),\n",
    "]\n",
    "\n",
    "# EC 1 = volumen = u, u'=f(t, u, v)\n",
    "# EC 2 = coef_inf = v, v'=g(t, u, v)\n",
    "\n",
    "def d_volume(t, u, v, i):\n",
    "    c = v\n",
    "    a_terr = A_TERR\n",
    "\n",
    "    q_max = Q_MAX\n",
    "    d_h_max = D_H_MAX\n",
    "    d_h_min = D_H_MIN\n",
    "    \n",
    "    h_s = H_S\n",
    "    \n",
    "    a_sot = A_SOT\n",
    "    h = f_h(v, a_sot)\n",
    "\n",
    "    d_h = f_d_h(h_s, h)\n",
    "\n",
    "    q_ent = f_q_ent(c, i, a_terr)\n",
    "    q_sal = f_q_sal(q_max, d_h_max, d_h_min, d_h)\n",
    "\n",
    "\n",
    "    return f_der_v(q_ent, q_sal)\n",
    "\n",
    "def d_infiltration(t, volume, infiltration):\n",
    "\n",
    "    sotane_volume = H_S * A_SOT\n",
    "\n",
    "    caracteristic_time = T_K\n",
    "    saturation_infiltration = C_SAT\n",
    "\n",
    "    return f_der_c(volume, sotane_volume, caracteristic_time, saturation_infiltration, infiltration)\n",
    "\n",
    "def main(storm_duration, intensity, d_volume, d_infiltration, time_gap):\n",
    "    time = 0\n",
    "    volume = 0\n",
    "    infiltration = C_0\n",
    "\n",
    "    iteration = 0\n",
    "\n",
    "    while time < storm_duration:\n",
    "        iteration += 1\n",
    "        volume, infiltration = euler_explicito_3(d_volume, time_gap, time, volume, infiltration, intensity), euler_explicito_2(d_infiltration, time_gap, time, volume, infiltration)\n",
    "        time += time_gap\n",
    "\n",
    "    intensity  = 0\n",
    "    while volume > 0:\n",
    "        iteration += 1\n",
    "        volume, infiltration = euler_explicito_3(d_volume, time_gap, time, volume, infiltration, intensity), euler_explicito_2(d_infiltration, time_gap, time, volume, infiltration)\n",
    "        time += time_gap\n",
    "\n",
    "    print(f\"v_{iteration} = {round(volume, 2)}m3\")\n",
    "\n",
    "for duration_min, intensity_mm in storms:\n",
    "    duration = duration_min / 60\n",
    "    intensity = intensity_mm / 1000\n",
    "    time_gap = duration / 10\n",
    "    main(duration, intensity, d_volume, d_infiltration, time_gap)\n",
    "    print(\"\\n\")"
   ]
  }
 ],
 "metadata": {
  "kernelspec": {
   "display_name": "Python 3",
   "language": "python",
   "name": "python3"
  },
  "language_info": {
   "codemirror_mode": {
    "name": "ipython",
    "version": 3
   },
   "file_extension": ".py",
   "mimetype": "text/x-python",
   "name": "python",
   "nbconvert_exporter": "python",
   "pygments_lexer": "ipython3",
   "version": "3.10.12"
  }
 },
 "nbformat": 4,
 "nbformat_minor": 2
}
