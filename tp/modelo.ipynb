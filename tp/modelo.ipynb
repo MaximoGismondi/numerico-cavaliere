{
 "cells": [
  {
   "cell_type": "markdown",
   "metadata": {},
   "source": [
    "# Modelo\n",
    "\n",
    "## Constantes"
   ]
  },
  {
   "cell_type": "code",
   "execution_count": 36,
   "metadata": {},
   "outputs": [],
   "source": [
    "NP = (110119 + 109164 + 111111) / 3 \n",
    "A_TERR = 17.32 * NP / 3000\n",
    "\n",
    "A_SOT = 8.66 ** 2                   # m2\n",
    "Q_MAX = 8                           # mm/h\n",
    "D_H_MAX = 4                         # m\n",
    "D_H_MIN = 1                         # m\n",
    "H_S = 3.50                          # m\n",
    "\n",
    "C_SAT = 0.90  \n",
    "C_0 = 0.60\n",
    "\n",
    "I = 241.4 / 1000                    # m/h\n",
    "\n",
    "DUR = 5                             # min\n",
    "C = 1                               # a-dimensional\n",
    "Q_SAL = 0                           # m3/h\n",
    "\n",
    "def f_der_v (q_ent, q_sal):\n",
    "    return q_ent - q_sal\n",
    "\n",
    "def f_q_ent(c, i, a_terr):\n",
    "    return c * i * a_terr           # admin * m/h * m2 = m3/h\n",
    "\n",
    "def f_q_sal(q_max, d_h_max, d_h_min, d_h):\n",
    "    return q_max * ((d_h_max - d_h)/(d_h_max - d_h_min)) ** 0.5\n",
    "\n",
    "def f_d_h(h_s, h):\n",
    "    return h_s - h\n",
    "\n",
    "def f_h(v, a_sot):\n",
    "    return v / a_sot"
   ]
  },
  {
   "cell_type": "markdown",
   "metadata": {},
   "source": [
    "## Métodos"
   ]
  },
  {
   "cell_type": "code",
   "execution_count": 37,
   "metadata": {},
   "outputs": [],
   "source": [
    "def euler_explicito(f, h, t, u):    # m3\n",
    "    return u + h * f(t, u)          # m3 + h * m3/h"
   ]
  },
  {
   "cell_type": "markdown",
   "metadata": {},
   "source": [
    "## Main"
   ]
  },
  {
   "cell_type": "code",
   "execution_count": 38,
   "metadata": {},
   "outputs": [],
   "source": [
    "def main(method, func, time_gap):\n",
    "    t = 0\n",
    "    u = 0\n",
    "    h = time_gap\n",
    "\n",
    "    i = 0\n",
    "    print(f\"t_{i} = {t}hs, u_{i} = {u}m3\")\n",
    "\n",
    "    while t < DUR:\n",
    "        i += 1\n",
    "        u = method(func, h, t, u)\n",
    "        t += h\n",
    "        print(f\"t_{i} = {t}hs, u_{i} = {u}m3\")"
   ]
  },
  {
   "cell_type": "markdown",
   "metadata": {},
   "source": [
    "## 1A"
   ]
  },
  {
   "cell_type": "code",
   "execution_count": 39,
   "metadata": {},
   "outputs": [
    {
     "name": "stdout",
     "output_type": "stream",
     "text": [
      "t_0 = 0hs, u_0 = 0m3\n",
      "t_1 = 0.5hs, u_1 = 76.74406516177778m3\n",
      "t_2 = 1.0hs, u_2 = 153.48813032355557m3\n",
      "t_3 = 1.5hs, u_3 = 230.23219548533336m3\n",
      "t_4 = 2.0hs, u_4 = 306.97626064711113m3\n",
      "t_5 = 2.5hs, u_5 = 383.7203258088889m3\n",
      "t_6 = 3.0hs, u_6 = 460.46439097066667m3\n",
      "t_7 = 3.5hs, u_7 = 537.2084561324444m3\n",
      "t_8 = 4.0hs, u_8 = 613.9525212942223m3\n",
      "t_9 = 4.5hs, u_9 = 690.6965864560001m3\n",
      "t_10 = 5.0hs, u_10 = 767.4406516177779m3\n"
     ]
    }
   ],
   "source": [
    "I = 241.4 / 1000                    # m/h\n",
    "\n",
    "DUR = 5                             # min\n",
    "C = 1                               # a-dimensional\n",
    "Q_SAL = 0                           # m3/h\n",
    "\n",
    "def f(t, u):\n",
    "    q_ent = f_q_ent(C, I, A_TERR)   # m3/h\n",
    "    q_sal = Q_SAL                   # m3/h\n",
    "    \n",
    "    return f_der_v(q_ent, q_sal)    # m3/h\n",
    "\n",
    "h = 0.5\n",
    "\n",
    "main(euler_explicito, f, h)"
   ]
  }
 ],
 "metadata": {
  "kernelspec": {
   "display_name": "Python 3",
   "language": "python",
   "name": "python3"
  },
  "language_info": {
   "codemirror_mode": {
    "name": "ipython",
    "version": 3
   },
   "file_extension": ".py",
   "mimetype": "text/x-python",
   "name": "python",
   "nbconvert_exporter": "python",
   "pygments_lexer": "ipython3",
   "version": "3.10.12"
  }
 },
 "nbformat": 4,
 "nbformat_minor": 2
}
