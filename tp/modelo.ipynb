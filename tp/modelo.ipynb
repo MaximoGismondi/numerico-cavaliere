{
 "cells": [
  {
   "cell_type": "markdown",
   "metadata": {},
   "source": [
    "# Modelo\n",
    "\n",
    "## Constantes"
   ]
  },
  {
   "cell_type": "code",
   "execution_count": 6,
   "metadata": {},
   "outputs": [],
   "source": [
    "#NP = (110119 + 109164 + 111111) / 3 \n",
    "NP = 110119 \n",
    "A_TERR = 17.32 * NP / 3000\n",
    "\n",
    "A_SOT = 8.66 ** 2                   # m2\n",
    "Q_MAX = 8                           # m3/h\n",
    "D_H_MAX = 3.5 # lo cambie           # m\n",
    "D_H_MIN = 1                         # m\n",
    "H_SOT = 3.50                        # m\n",
    "V_SOT = H_SOT * A_SOT               # m3\n",
    "\n",
    "C_SAT = 0.90                        # admin\n",
    "C_0 = 0.60                          # admin\n",
    "\n",
    "T_K = (1-NP/140000)                 # h\n",
    "\n",
    "\n",
    "# EC 1\n",
    "def f_der_v(q_ent, q_sal):\n",
    "    return q_ent - q_sal\n",
    "\n",
    "# EC 2\n",
    "def f_q_ent(c, i, a_terr):\n",
    "    return c * i * a_terr           # admin * m/h * m2 = m3/h\n",
    "\n",
    "# EC 3\n",
    "def f_q_sal(q_max, d_h_max, d_h_min, d_h):\n",
    "    if d_h > d_h_max: return 0\n",
    "    if d_h < d_h_min: return q_max\n",
    "    return q_max * (((d_h_max - d_h)/(d_h_max - d_h_min)) ** 0.5)\n",
    "\n",
    "# EC 4\n",
    "def f_d_h(h_s, h):\n",
    "    return h_s - h\n",
    "\n",
    "# EC 5\n",
    "def f_h(v, a_sot):\n",
    "    return v / a_sot\n",
    "\n",
    "# EC 6\n",
    "def f_der_c(v, v_sot, t_k, c_sat, c):\n",
    "    return (v/(v_sot * t_k)) * (c_sat - c)"
   ]
  },
  {
   "cell_type": "markdown",
   "metadata": {},
   "source": [
    "## Métodos"
   ]
  },
  {
   "cell_type": "code",
   "execution_count": 7,
   "metadata": {},
   "outputs": [],
   "source": [
    "def euler_explicito(f, h, t, u):            # m3\n",
    "    return u + h * f(t, u)                  # m3 + h * m3/h\n",
    "\n",
    "def euler_explicito_2(f, h, t, u, v):       # m3\n",
    "    return u + h * f(t, u, v)               # m3 + h * m3/h\n",
    "\n",
    "def euler_explicito_3(f, h, t, u, v, w):    # m3\n",
    "    return u + h * f(t, u, v, w)            # m3 + h * m3/h"
   ]
  },
  {
   "cell_type": "markdown",
   "metadata": {},
   "source": [
    "## A.1\n",
    "Discretizar la ec. 1 con el método de Euler, tomando $C$ = 1, $Q$ = 0. Correr el modelo para la precipitación de 60 min y verificar que el volumen de agua almacenado en el sótano coincida con el volumen de lluvia."
   ]
  },
  {
   "cell_type": "code",
   "execution_count": 8,
   "metadata": {},
   "outputs": [
    {
     "name": "stdout",
     "output_type": "stream",
     "text": [
      "Final volume: 54.04 m3\n"
     ]
    }
   ],
   "source": [
    "INTENSITY = 85.0 / 1000  # m/h\n",
    "\n",
    "DURATION = 1  # h\n",
    "INFILTRATION = 1  # a-dimensional\n",
    "Q_SAL = 0  # m3/h\n",
    "\n",
    "\n",
    "def d_volume(t, u):\n",
    "    q_ent = f_q_ent(INFILTRATION, INTENSITY, A_TERR)  # m3/h\n",
    "    q_sal = Q_SAL  # m3/h\n",
    "\n",
    "    return f_der_v(q_ent, q_sal)  # m3/h\n",
    "\n",
    "\n",
    "d_time = 5 / 60  # h\n",
    "\n",
    "volume = 0  # m3\n",
    "time = 0  # h\n",
    "\n",
    "while time < DURATION:\n",
    "    volume = volume + d_time * d_volume(time, volume)\n",
    "    time += d_time\n",
    "\n",
    "print(f\"Final volume: {round(volume, 2)} m3\")"
   ]
  },
  {
   "cell_type": "markdown",
   "metadata": {},
   "source": [
    "## A.2\n",
    "\n",
    "Discretizar las ec. 1 y ec. 6 con el método de Euler, considerando $C$ y $Q_{sal}$ variables. Correr\n",
    "el modelo para todas las duraciónes / intensidades de precipitación, un lapso de tiempo\n",
    "suficiente como para que el sótano se vacíe"
   ]
  },
  {
   "cell_type": "code",
   "execution_count": 11,
   "metadata": {},
   "outputs": [
    {
     "name": "stdout",
     "output_type": "stream",
     "text": [
      "Starting storm with 241.4 mm/h for 5.0 min\n",
      "Storm finish and sotane has 7.59 m3\n",
      "Empyting sotane after 570.7 min\n",
      "\n",
      "Starting storm with 190.7 mm/h for 10.0 min\n",
      "Storm finish and sotane has 11.94 m3\n",
      "Empyting sotane after 719.2 min\n",
      "\n",
      "Starting storm with 162.6 mm/h for 15.0 min\n",
      "Storm finish and sotane has 15.22 m3\n",
      "Empyting sotane after 815.55 min\n",
      "\n",
      "Starting storm with 119.6 mm/h for 30.0 min\n",
      "Storm finish and sotane has 22.27 m3\n",
      "Empyting sotane after 997.8 min\n",
      "\n",
      "Starting storm with 85.0 mm/h for 60.0 min\n",
      "Storm finish and sotane has 31.65 m3\n",
      "Empyting sotane after 1213.2 min\n",
      "\n",
      "Starting storm with 41.7 mm/h for 180.0 min\n",
      "Storm finish and sotane has 47.37 m3\n",
      "Empyting sotane after 1589.4 min\n",
      "\n",
      "Starting storm with 26.4 mm/h for 360.0 min\n",
      "Storm finish and sotane has 58.63 m3\n",
      "Empyting sotane after 1926.0 min\n",
      "\n",
      "Starting storm with 16.7 mm/h for 720.0 min\n",
      "Storm finish and sotane has 65.14 m3\n",
      "Empyting sotane after 2361.6 min\n",
      "\n",
      "Starting storm with 10.9 mm/h for 1440.0 min\n",
      "Storm finish and sotane has 62.0 m3\n",
      "Empyting sotane after 3038.4 min\n",
      "\n",
      "Starting storm with 5.2 mm/h for 4320.0 min\n",
      "Storm finish and sotane has 25.56 m3\n",
      "Empyting sotane after 5313.6 min\n",
      "\n"
     ]
    }
   ],
   "source": [
    "storms_min_mm = [       # min, mm/h\n",
    "    (5, 241.4),\n",
    "    (10, 190.7),\n",
    "    (15, 162.6),\n",
    "    (30, 119.6),\n",
    "    (60, 85.0),\n",
    "    (180, 41.7),\n",
    "    (360, 26.4),\n",
    "    (720, 16.7),\n",
    "    (1440, 10.9),\n",
    "    (4320, 5.2),\n",
    "]\n",
    "\n",
    "storms = [(duration/60, intensity/1000) for duration, intensity in storms_min_mm]\n",
    "\n",
    "def d_volume(time, volume, infiltration, intensity):\n",
    "    terrain_area = A_TERR\n",
    "\n",
    "    max_flow = Q_MAX\n",
    "    max_height_variation = D_H_MAX\n",
    "    min_height_variation = D_H_MIN\n",
    "    \n",
    "    sotane_height = H_SOT\n",
    "    \n",
    "    sotane_area = A_SOT\n",
    "    height = f_h(volume, sotane_area)\n",
    "\n",
    "    heigth_variation = f_d_h(sotane_height, height)\n",
    "\n",
    "    entry_flow = f_q_ent(infiltration, intensity, terrain_area)\n",
    "    exit_flow = f_q_sal(max_flow, max_height_variation, min_height_variation, heigth_variation)\n",
    "\n",
    "    return f_der_v(entry_flow, exit_flow)\n",
    "\n",
    "def d_infiltration(t, volume, infiltration):\n",
    "\n",
    "    sotane_volume = V_SOT\n",
    "\n",
    "    caracteristic_time = T_K\n",
    "    saturation_infiltration = C_SAT\n",
    "\n",
    "    return f_der_c(volume, sotane_volume, caracteristic_time, saturation_infiltration, infiltration)\n",
    "\n",
    "for storm_duration, storm_intensity in storms:\n",
    "\n",
    "    print(f\"Starting storm with {storm_intensity*1000} mm/h for {storm_duration*60} min\")\n",
    "\n",
    "    time = 0\n",
    "    volume = 0\n",
    "    infiltration = C_0\n",
    "\n",
    "    d_time = storm_duration / 100\n",
    "\n",
    "    while time < storm_duration:\n",
    "        volume = volume + d_time * d_volume(time, volume, infiltration, storm_intensity)\n",
    "        infiltration = infiltration + d_time * d_infiltration(time, volume, infiltration)\n",
    "        time += d_time\n",
    "\n",
    "    print(f\"Storm finish and sotane has {round(volume,2)} m3\")\n",
    "\n",
    "    while volume > 0:\n",
    "        volume = volume + d_time * d_volume(time, volume, infiltration, 0)\n",
    "        infiltration = infiltration + d_time * d_infiltration(time, volume, infiltration)\n",
    "        time += d_time\n",
    "\n",
    "    print(f\"Empyting sotane after {round(time*60,2)} min\")\n",
    "    print(\"\")\n"
   ]
  }
 ],
 "metadata": {
  "kernelspec": {
   "display_name": "Python 3",
   "language": "python",
   "name": "python3"
  },
  "language_info": {
   "codemirror_mode": {
    "name": "ipython",
    "version": 3
   },
   "file_extension": ".py",
   "mimetype": "text/x-python",
   "name": "python",
   "nbconvert_exporter": "python",
   "pygments_lexer": "ipython3",
   "version": "3.10.12"
  }
 },
 "nbformat": 4,
 "nbformat_minor": 2
}
